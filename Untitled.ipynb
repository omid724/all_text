{
 "cells": [
  {
   "cell_type": "code",
   "execution_count": null,
   "id": "2a3cdd4a-b953-4fcb-b7c9-4124251da2cf",
   "metadata": {},
   "outputs": [],
   "source": [
    "# In the name of God\n",
    "\n",
    "import re\n",
    "from time import sleep\n",
    "import os\n",
    "\n",
    "import requests\n",
    "from bs4 import BeautifulSoup\n",
    "from selenium import webdriver\n",
    "import html2text\n",
    "\n",
    "from pack import *"
   ]
  },
  {
   "cell_type": "code",
   "execution_count": null,
   "id": "6cb9ba85-8a64-4927-b334-4a3af6a7a76d",
   "metadata": {},
   "outputs": [],
   "source": [
    "# Initialize the WebDriver\n",
    "driver = webdriver.Firefox()"
   ]
  },
  {
   "cell_type": "code",
   "execution_count": null,
   "id": "cbe1d235-7336-454e-b13c-e3fb03aeda7e",
   "metadata": {},
   "outputs": [],
   "source": [
    "urls = read_domains()"
   ]
  },
  {
   "cell_type": "code",
   "execution_count": null,
   "id": "ab83c5c8-d2b1-4ca3-b04a-616af3dba7cb",
   "metadata": {},
   "outputs": [],
   "source": [
    "for url in urls[10:]:\n",
    "    driver.get(url)\n",
    "    sleep(5)\n",
    "    \n",
    "    whole_page = driver.page_source\n",
    "\n",
    "    # soup = BeautifulSoup(a, \"html.parser\")\n",
    "    # tags = soup.find_all(\"a\")\n",
    "\n",
    "    # addresses = [tag.attrs[\"href\"] for tag in tags]\n",
    "    # addresses = list(set(addresses))\n",
    "\n",
    "    print(url, driver.current_url)"
   ]
  },
  {
   "cell_type": "code",
   "execution_count": null,
   "id": "8db5ad96-22c6-455a-ba35-01cc677ca6ac",
   "metadata": {},
   "outputs": [],
   "source": [
    "h = html2text.HTML2Text()\n",
    "h.ignore_links = True\n",
    "doc = h.handle(a)\n",
    "print(doc)"
   ]
  }
 ],
 "metadata": {
  "kernelspec": {
   "display_name": "Python 3 (ipykernel)",
   "language": "python",
   "name": "python3"
  },
  "language_info": {
   "codemirror_mode": {
    "name": "ipython",
    "version": 3
   },
   "file_extension": ".py",
   "mimetype": "text/x-python",
   "name": "python",
   "nbconvert_exporter": "python",
   "pygments_lexer": "ipython3",
   "version": "3.10.12"
  }
 },
 "nbformat": 4,
 "nbformat_minor": 5
}
