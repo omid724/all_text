{
 "cells": [
  {
   "cell_type": "code",
   "execution_count": 1,
   "id": "2a3cdd4a-b953-4fcb-b7c9-4124251da2cf",
   "metadata": {},
   "outputs": [],
   "source": [
    "# In the name of God\n",
    "\n",
    "import re\n",
    "from time import sleep\n",
    "import os\n",
    "\n",
    "import requests\n",
    "from bs4 import BeautifulSoup\n",
    "from selenium import webdriver\n",
    "import html2text"
   ]
  },
  {
   "cell_type": "code",
   "execution_count": 15,
   "id": "b36844fa-9327-40e0-85ff-739e986c4293",
   "metadata": {},
   "outputs": [],
   "source": [
    "def remove_last_forward_slash(url):\n",
    "    if url[-1] == \"/\":\n",
    "        url = url[:-1]\n",
    "    return url\n",
    "\n",
    "def url_to_folder(url):\n",
    "    domain = find_domain(url)\n",
    "    _, split_domain = split_protocol_part_of_url(domain)\n",
    "    split_domain = remove_last_forward_slash(split_domain)\n",
    "    \n",
    "    return split_domain.replace(\".\", \"_\")\n",
    "\n",
    "def make_requierd_dir(path, folder):\n",
    "    requierd_dir = os.path.join(path, folder)\n",
    "    if not os.path.isdir(requierd_dir):\n",
    "        os.mkdir(requierd_dir)\n",
    "\n",
    "def find_domain(url):\n",
    "    url = url.lower()\n",
    "    # input shape: https://tarh.ir/golha/ ---> output shape: https://tarh.ir/\n",
    "    res_url = re.findall(r\"^.+?\\..+?/\", url)\n",
    "    res_url = res_url[0] if len(res_url) else url\n",
    "\n",
    "    return res_url\n",
    "\n",
    "def split_protocol_part_of_url(url):\n",
    "    splited_with_double_qute_url = url.split(\":\")\n",
    "    number_of_parts = len(splited_with_double_qute_url)\n",
    "    assert number_of_parts <= 2, f\"Not a normal link passed. url: {url}\"\n",
    "\n",
    "    protocol_part = splited_with_double_qute_url[0] if number_of_parts == 2 else \"\"\n",
    "    url_without_protocol = (\n",
    "        splited_with_double_qute_url[1] if number_of_parts == 2 else url\n",
    "    )\n",
    "    url_without_protocol = (\n",
    "        url_without_protocol[2:]\n",
    "        if \"//\" == url_without_protocol[:2]\n",
    "        else url_without_protocol\n",
    "    )\n",
    "\n",
    "    return protocol_part, url_without_protocol\n",
    "\n",
    "def read_domains():\n",
    "    with open('domains.txt', \"r\") as f:\n",
    "        d = f.readlines()\n",
    "    return d\n",
    "\n",
    "def write_domains(urls):\n",
    "    with open('domains.txt', \"w\") as f:\n",
    "        f.write(\"\\n\".join(urls) + \"\\n\")"
   ]
  },
  {
   "cell_type": "code",
   "execution_count": 17,
   "id": "178c41d9-a53d-4906-8f77-cac4b6569dc9",
   "metadata": {},
   "outputs": [],
   "source": [
    "write_domains([\"1\", \"5\"])"
   ]
  },
  {
   "cell_type": "code",
   "execution_count": null,
   "id": "6cb9ba85-8a64-4927-b334-4a3af6a7a76d",
   "metadata": {},
   "outputs": [],
   "source": [
    "# Initialize the WebDriver\n",
    "driver = webdriver.Firefox()"
   ]
  },
  {
   "cell_type": "code",
   "execution_count": 3,
   "id": "cbe1d235-7336-454e-b13c-e3fb03aeda7e",
   "metadata": {},
   "outputs": [],
   "source": [
    "urls = read_domains()"
   ]
  },
  {
   "cell_type": "code",
   "execution_count": null,
   "id": "ab83c5c8-d2b1-4ca3-b04a-616af3dba7cb",
   "metadata": {},
   "outputs": [],
   "source": [
    "for url in df[\"URL\"]:\n",
    "    driver.get(url)\n",
    "    sleep(5)\n",
    "    \n",
    "    whole_page = driver.page_source\n",
    "\n",
    "    soup = BeautifulSoup(a, \"html.parser\")\n",
    "    tags = soup.find_all(\"a\")"
   ]
  },
  {
   "cell_type": "code",
   "execution_count": null,
   "id": "6823786d-690a-4978-bfd6-594b1d822968",
   "metadata": {},
   "outputs": [],
   "source": [
    "df2 = pd.DataFrame(columns=[\"url\"])\n",
    "df2"
   ]
  },
  {
   "cell_type": "code",
   "execution_count": null,
   "id": "7b0ea772-f7ba-4dff-a65e-954f6c0a0cf6",
   "metadata": {},
   "outputs": [],
   "source": [
    "soup = BeautifulSoup(a, \"html.parser\")\n",
    "tags = soup.find_all(\"a\")"
   ]
  },
  {
   "cell_type": "code",
   "execution_count": null,
   "id": "8db5ad96-22c6-455a-ba35-01cc677ca6ac",
   "metadata": {},
   "outputs": [],
   "source": [
    "h = html2text.HTML2Text()\n",
    "h.ignore_links = True\n",
    "doc = h.handle(a)\n",
    "print(doc)"
   ]
  },
  {
   "cell_type": "code",
   "execution_count": null,
   "id": "39594fe7-0223-4042-b8af-d477c7bb7ff6",
   "metadata": {},
   "outputs": [],
   "source": [
    "addresses = [tag.attrs[\"href\"] for tag in tags]\n",
    "addresses = list(set(addresses))"
   ]
  },
  {
   "cell_type": "code",
   "execution_count": null,
   "id": "982d99d1-cc7f-4f39-84cf-309b64c5a2fa",
   "metadata": {},
   "outputs": [],
   "source": [
    "def make_url(url, suburl):\n",
    "    if suburl[:2] == \"//\":\n",
    "        protocl, _ = split_protocol_part_of_url(url)\n",
    "        result = protocl + suburl\n",
    "    elif suburl[:1] == \"/\":\n",
    "        domain = find_domain(url)\n",
    "        result = domain + suburl\n",
    "    else:\n",
    "        result = suburl\n",
    "    return result"
   ]
  },
  {
   "cell_type": "code",
   "execution_count": null,
   "id": "4ba94f09-7b2a-478f-92a3-3f5b4e1a1c42",
   "metadata": {},
   "outputs": [],
   "source": [
    "[make_url(url, item) for item in addresses]\n"
   ]
  },
  {
   "cell_type": "code",
   "execution_count": null,
   "id": "5e6b74c3-9a7b-4a3e-866d-388d51d4b0e3",
   "metadata": {},
   "outputs": [],
   "source": [
    "find_domain(url)"
   ]
  },
  {
   "cell_type": "code",
   "execution_count": null,
   "id": "a4f5ee51-c686-49aa-bfa1-9a8da7c97e15",
   "metadata": {},
   "outputs": [],
   "source": [
    "split_protocol_part_of_url(url)"
   ]
  },
  {
   "cell_type": "code",
   "execution_count": null,
   "id": "c8296008-ead0-41bb-b77d-5c51d116ce62",
   "metadata": {},
   "outputs": [],
   "source": []
  }
 ],
 "metadata": {
  "kernelspec": {
   "display_name": "Python 3 (ipykernel)",
   "language": "python",
   "name": "python3"
  },
  "language_info": {
   "codemirror_mode": {
    "name": "ipython",
    "version": 3
   },
   "file_extension": ".py",
   "mimetype": "text/x-python",
   "name": "python",
   "nbconvert_exporter": "python",
   "pygments_lexer": "ipython3",
   "version": "3.10.12"
  }
 },
 "nbformat": 4,
 "nbformat_minor": 5
}
