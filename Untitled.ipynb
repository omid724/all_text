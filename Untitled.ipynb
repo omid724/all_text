{
 "cells": [
  {
   "cell_type": "code",
   "execution_count": 1,
   "id": "2a3cdd4a-b953-4fcb-b7c9-4124251da2cf",
   "metadata": {},
   "outputs": [],
   "source": [
    "# In the name of God\n",
    "\n",
    "import re\n",
    "from time import sleep\n",
    "import os\n",
    "from random import choice\n",
    "\n",
    "import requests\n",
    "from bs4 import BeautifulSoup\n",
    "from selenium import webdriver\n",
    "import html2text\n",
    "\n",
    "from pack import *"
   ]
  },
  {
   "cell_type": "code",
   "execution_count": 2,
   "id": "08e00987-e241-4731-892b-fe943af6e8df",
   "metadata": {},
   "outputs": [],
   "source": [
    "def get_exact_url(driver, url):\n",
    "    driver.get(url)\n",
    "    sleep(5)\n",
    "    return remove_last_forward_slash(driver.current_url)\n",
    "\n",
    "\n",
    "def just_remain_pure_domain():\n",
    "    urls = read_domains()\n",
    "    urls2 = urls[:]\n",
    "    \n",
    "    for url in urls:\n",
    "        _, pure_domain = split_protocol_part_of_url(find_domain(url))\n",
    "        urls2.remove(url)\n",
    "        urls2.append(pure_domain)\n",
    "        write_domains(urls2)"
   ]
  },
  {
   "cell_type": "code",
   "execution_count": 3,
   "id": "6cb9ba85-8a64-4927-b334-4a3af6a7a76d",
   "metadata": {},
   "outputs": [],
   "source": [
    "# Initialize the WebDriver\n",
    "driver = webdriver.Firefox()"
   ]
  },
  {
   "cell_type": "code",
   "execution_count": 4,
   "id": "cbe1d235-7336-454e-b13c-e3fb03aeda7e",
   "metadata": {},
   "outputs": [],
   "source": [
    "just_remain_pure_domain()"
   ]
  },
  {
   "cell_type": "code",
   "execution_count": 5,
   "id": "40232288-8071-4590-960a-0d6363459c88",
   "metadata": {},
   "outputs": [],
   "source": [
    "make_requierd_dir(\".\", \"data\")"
   ]
  },
  {
   "cell_type": "code",
   "execution_count": null,
   "id": "ab83c5c8-d2b1-4ca3-b04a-616af3dba7cb",
   "metadata": {},
   "outputs": [],
   "source": [
    "for url in urls:\n",
    "    try:\n",
    "        exact_url = remove_last_forward_slash(get_exact_url(driver, url))\n",
    "    except:\n",
    "        urls.remove(url)\n",
    "        write_domains(urls)\n",
    "        print(url + \" not avalable!!!\")\n",
    "    else:\n",
    "        if exact_url != \"https://\" + url:\n",
    "            urls.remove(url)\n",
    "            write_domains(urls)\n",
    "            \n",
    "    # whole_page = driver.page_source\n",
    "\n",
    "    # soup = BeautifulSoup(a, \"html.parser\")\n",
    "    # tags = soup.find_all(\"a\")\n",
    "\n",
    "    # addresses = [tag.attrs[\"href\"] for tag in tags]\n",
    "    # addresses = list(set(addresses))"
   ]
  },
  {
   "cell_type": "code",
   "execution_count": null,
   "id": "827a76aa-9fce-4ed2-aaf5-55b92acb8e31",
   "metadata": {},
   "outputs": [],
   "source": [
    "driver.get()"
   ]
  },
  {
   "cell_type": "code",
   "execution_count": null,
   "id": "8db5ad96-22c6-455a-ba35-01cc677ca6ac",
   "metadata": {},
   "outputs": [],
   "source": [
    "# h = html2text.HTML2Text()\n",
    "# h.ignore_links = True\n",
    "# doc = h.handle(a)\n",
    "# print(doc)"
   ]
  },
  {
   "cell_type": "code",
   "execution_count": 10,
   "id": "67276255-1f5d-45cc-b333-46c8c8eccd57",
   "metadata": {},
   "outputs": [
    {
     "data": {
      "text/plain": [
       "'www.fardayeeghtesad.com'"
      ]
     },
     "execution_count": 10,
     "metadata": {},
     "output_type": "execute_result"
    }
   ],
   "source": [
    "urls = read_domains()\n",
    "url = urls[50]\n",
    "url"
   ]
  },
  {
   "cell_type": "raw",
   "id": "75dceac2-dd59-45c3-a4d5-5245d346af93",
   "metadata": {},
   "source": []
  }
 ],
 "metadata": {
  "kernelspec": {
   "display_name": "Python 3 (ipykernel)",
   "language": "python",
   "name": "python3"
  },
  "language_info": {
   "codemirror_mode": {
    "name": "ipython",
    "version": 3
   },
   "file_extension": ".py",
   "mimetype": "text/x-python",
   "name": "python",
   "nbconvert_exporter": "python",
   "pygments_lexer": "ipython3",
   "version": "3.10.12"
  }
 },
 "nbformat": 4,
 "nbformat_minor": 5
}
